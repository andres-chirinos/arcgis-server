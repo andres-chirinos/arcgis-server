{
 "cells": [
  {
   "cell_type": "markdown",
   "id": "83ee4509",
   "metadata": {},
   "source": [
    "## System"
   ]
  },
  {
   "cell_type": "code",
   "execution_count": null,
   "id": "2820b868",
   "metadata": {},
   "outputs": [],
   "source": [
    "%pip install --upgrade pip \n",
    "%pip install arcgis"
   ]
  },
  {
   "cell_type": "markdown",
   "id": "670222b3",
   "metadata": {},
   "source": [
    "# Run"
   ]
  },
  {
   "cell_type": "markdown",
   "id": "1dcd71b2",
   "metadata": {},
   "source": [
    "## Dependencies and Parameters"
   ]
  },
  {
   "cell_type": "code",
   "execution_count": null,
   "id": "166c66a3",
   "metadata": {},
   "outputs": [],
   "source": [
    "import os\n",
    "import re\n",
    "import requests\n",
    "\n",
    "from arcgis.gis import GIS\n",
    "from arcgis.features import FeatureLayer\n",
    "from arcgis.features import FeatureSet"
   ]
  },
  {
   "cell_type": "code",
   "execution_count": null,
   "id": "25728719",
   "metadata": {
    "tags": [
     "parameters"
    ]
   },
   "outputs": [],
   "source": [
    "input_url = \"https://geoelectoral.oep.org.bo/oep/rest/services/\"\n",
    "data_dir = \"../data\""
   ]
  },
  {
   "cell_type": "code",
   "execution_count": null,
   "id": "310c0007",
   "metadata": {},
   "outputs": [],
   "source": [
    "OUTPUT_DIR = os.path.join(data_dir, \"\")\n",
    "BASE_URL = input_url"
   ]
  },
  {
   "cell_type": "markdown",
   "id": "b6db985a",
   "metadata": {},
   "source": [
    "## Functions"
   ]
  },
  {
   "cell_type": "code",
   "execution_count": null,
   "id": "bc3dfb00",
   "metadata": {},
   "outputs": [],
   "source": [
    "def sanitize(s):\n",
    "    return re.sub(r'[^\\w\\-_\\.]', '_', s)"
   ]
  },
  {
   "cell_type": "code",
   "execution_count": null,
   "id": "1f73866a",
   "metadata": {},
   "outputs": [],
   "source": [
    "def get_services():\n",
    "    url = f\"{BASE_URL}?f=json\"\n",
    "    r = requests.get(url)\n",
    "    r.raise_for_status()\n",
    "    data = r.json()\n",
    "    services = data.get(\"services\", [])\n",
    "    return [s for s in services if s[\"type\"] == \"MapServer\"]\n"
   ]
  },
  {
   "cell_type": "code",
   "execution_count": null,
   "id": "19e24565",
   "metadata": {},
   "outputs": [],
   "source": [
    "def get_all_mapservers():\n",
    "    \"\"\"\n",
    "    Returns a list of all MapServer service URLs, including those in folders.\n",
    "    \"\"\"\n",
    "    services = []\n",
    "    url = f\"{BASE_URL}?f=json\"\n",
    "    r = requests.get(url)\n",
    "    r.raise_for_status()\n",
    "    data = r.json()\n",
    "    # Root-level services\n",
    "    for s in data.get(\"services\", []):\n",
    "        if s[\"type\"] == \"MapServer\":\n",
    "            services.append(f\"{BASE_URL}/{s['name']}/{s['type']}\")\n",
    "    # Services in folders\n",
    "    for folder in data.get(\"folders\", []):\n",
    "        folder_url = f\"{BASE_URL}/{folder}?f=json\"\n",
    "        r2 = requests.get(folder_url)\n",
    "        r2.raise_for_status()\n",
    "        folder_data = r2.json()\n",
    "        for s in folder_data.get(\"services\", []):\n",
    "            if s[\"type\"] == \"MapServer\":\n",
    "                services.append(f\"{BASE_URL}/{s['name']}/{s['type']}\")\n",
    "    return services"
   ]
  },
  {
   "cell_type": "code",
   "execution_count": null,
   "id": "3f4368b7",
   "metadata": {},
   "outputs": [],
   "source": [
    "# Función para obtener todas las capas de un MapServer\n",
    "def get_layers(service_url):\n",
    "    url = f\"{service_url}?f=json\"\n",
    "    r = requests.get(url)\n",
    "    r.raise_for_status()\n",
    "    data = r.json()\n",
    "    return data.get(\"layers\", [])\n"
   ]
  },
  {
   "cell_type": "code",
   "execution_count": null,
   "id": "2292ab92",
   "metadata": {},
   "outputs": [],
   "source": [
    "def download_layer_arcgis(service_url, layer, gis, page_size=1000):\n",
    "    layer_id = layer[\"id\"]\n",
    "    layer_name = sanitize(layer[\"name\"])\n",
    "    full_url = f\"{service_url}/{layer_id}\"\n",
    "    service_name = sanitize(service_url.split(\"/\")[-2])\n",
    "    out_dir = os.path.join(OUTPUT_DIR, service_name)\n",
    "    os.makedirs(out_dir, exist_ok=True)\n",
    "    fname = f\"{layer_id}_{layer_name}.geojson\"\n",
    "    out_path = os.path.join(out_dir, fname)\n",
    "\n",
    "    lyr = FeatureLayer(full_url, gis)\n",
    "    count = lyr.query(where=\"1=1\", return_count_only=True)\n",
    "\n",
    "    if count > 5000:\n",
    "        print(f\"    ⚠️ {layer_name} tiene demasiados datos ({count} features). Saltando descarga.\")\n",
    "        return\n",
    "\n",
    "    print(f\"    ⏳ Descargando {layer_name} ({count} features)...\")\n",
    "\n",
    "    try:\n",
    "        # Intenta paginación primero\n",
    "        features = []\n",
    "        for offset in range(0, count, page_size):\n",
    "            q = lyr.query(\n",
    "                where=\"1=1\",\n",
    "                out_fields=\"*\",\n",
    "                return_geometry=True,\n",
    "                result_offset=offset,\n",
    "                result_record_count=page_size,\n",
    "                as_df=False,\n",
    "            )\n",
    "            if q.features:\n",
    "                features.extend(q.features)\n",
    "            if len(q.features) < page_size:\n",
    "                break\n",
    "        if not features:\n",
    "            raise Exception(\"No features with pagination\")\n",
    "    except Exception as e:\n",
    "        # Si falla la paginación, intenta descargar todo de una sola vez\n",
    "        try:\n",
    "            q = lyr.query(where=\"1=1\", out_fields=\"*\", return_geometry=True, as_df=False)\n",
    "            features = q.features if q.features else []\n",
    "        except Exception as e2:\n",
    "            print(f\"    ⚠️ Error al descargar {layer_name}: {e2}\")\n",
    "            return\n",
    "\n",
    "    if features:\n",
    "        fs = FeatureSet(features)\n",
    "        geojson = fs.to_geojson\n",
    "        with open(out_path, \"w\", encoding=\"utf-8\") as f:\n",
    "            f.write(geojson)\n",
    "        print(f\"    ✅ Guardado completo: {fname} ({len(features)} features)\")\n",
    "    else:\n",
    "        print(f\"    ⚠️ Sin datos para {layer_name}\")"
   ]
  },
  {
   "cell_type": "markdown",
   "id": "39d4dac0",
   "metadata": {},
   "source": [
    "## Runtime"
   ]
  },
  {
   "cell_type": "code",
   "execution_count": null,
   "id": "9e757bf7",
   "metadata": {},
   "outputs": [],
   "source": [
    "def main():\n",
    "    gis = GIS()  # acceso anónimo\n",
    "    services = get_all_mapservers()\n",
    "    print(f\"🧭 MapServers encontrados: {len(services)}\")\n",
    "    for service_url in services:\n",
    "        service_name = service_url.split(\"/\")[-2]\n",
    "        print(f\"\\n📦 Servicio: {service_name}\")\n",
    "        try:\n",
    "            layers = get_layers(service_url)\n",
    "            for layer in layers:\n",
    "                print(f\"  🔍 Capa {layer['id']}: {layer['name']}\")\n",
    "                download_layer_arcgis(service_url, layer, gis)\n",
    "        except Exception as e:\n",
    "            print(f\"  ⚠️ Error en servicio {service_name}: {e}\")\n",
    "    print(\"\\n🏁 Proceso finalizado.\")\n",
    "\n",
    "main()"
   ]
  },
  {
   "cell_type": "markdown",
   "id": "ab3ec9de",
   "metadata": {},
   "source": [
    "# Tests"
   ]
  }
 ],
 "metadata": {
  "kernelspec": {
   "display_name": ".venv",
   "language": "python",
   "name": "python3"
  },
  "language_info": {
   "name": "python",
   "version": "3.10.12"
  }
 },
 "nbformat": 4,
 "nbformat_minor": 5
}
